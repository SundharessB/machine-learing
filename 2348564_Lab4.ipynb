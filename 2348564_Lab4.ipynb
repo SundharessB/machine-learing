{
  "nbformat": 4,
  "nbformat_minor": 0,
  "metadata": {
    "colab": {
      "provenance": [],
      "authorship_tag": "ABX9TyP1thtkxDUT+NY80s7H5hjT",
      "include_colab_link": true
    },
    "kernelspec": {
      "name": "python3",
      "display_name": "Python 3"
    },
    "language_info": {
      "name": "python"
    }
  },
  "cells": [
    {
      "cell_type": "markdown",
      "metadata": {
        "id": "view-in-github",
        "colab_type": "text"
      },
      "source": [
        "<a href=\"https://colab.research.google.com/github/SundharessB/machine-learing/blob/main/2348564_Lab4.ipynb\" target=\"_parent\"><img src=\"https://colab.research.google.com/assets/colab-badge.svg\" alt=\"Open In Colab\"/></a>"
      ]
    },
    {
      "cell_type": "code",
      "execution_count": null,
      "metadata": {
        "id": "2J-U10aqPI7N",
        "colab": {
          "base_uri": "https://localhost:8080/"
        },
        "outputId": "de77ed85-20dd-4c0b-f2e7-136614ae71e1"
      },
      "outputs": [
        {
          "output_type": "stream",
          "name": "stderr",
          "text": [
            "/usr/local/lib/python3.10/dist-packages/ipykernel/ipkernel.py:283: DeprecationWarning: `should_run_async` will not call `transform_cell` automatically in the future. Please pass the result to `transformed_cell` argument and any exception that happen during thetransform in `preprocessing_exc_tuple` in IPython 7.17 and above.\n",
            "  and should_run_async(code)\n"
          ]
        }
      ],
      "source": [
        "import pandas as pd\n",
        "import numpy as np\n",
        "import matplotlib.pyplot as plt\n",
        "import time\n",
        "import threading\n",
        "import warnings\n",
        "warnings.filterwarnings(\"ignore\")\n",
        "from mlxtend.frequent_patterns import apriori\n",
        "from mlxtend.frequent_patterns import fpgrowth"
      ]
    },
    {
      "cell_type": "code",
      "source": [
        "data=pd.read_csv('/content/Groceries_dataset (1).csv', skiprows=lambda x: x % 10 != 0)\n",
        "data.shape\n"
      ],
      "metadata": {
        "colab": {
          "base_uri": "https://localhost:8080/"
        },
        "id": "Xi8EtNw8P-SU",
        "outputId": "87278165-8057-4fd3-e48a-d0790d7d0808"
      },
      "execution_count": null,
      "outputs": [
        {
          "output_type": "execute_result",
          "data": {
            "text/plain": [
              "(3876, 3)"
            ]
          },
          "metadata": {},
          "execution_count": 7
        }
      ]
    },
    {
      "cell_type": "code",
      "source": [
        "import pandas as pd\n",
        "from mlxtend.frequent_patterns import apriori, fpgrowth\n",
        "\n",
        "class FrequentItemsets:\n",
        "    def __init__(self, data):\n",
        "        self.data = data\n",
        "        self.transactions = []\n",
        "        for index, row in self.data.iterrows():\n",
        "            self.transactions.append(row.dropna().tolist())\n",
        "        self.encoded = pd.get_dummies(pd.DataFrame(self.transactions).stack()).sum(level=0)\n",
        "        self.transactiondf = (self.encoded > 0).astype(int)\n",
        "\n",
        "    def run_apriori(self, min_support, use_colnames=True):\n",
        "        return apriori(self.transactiondf, min_support=min_support, use_colnames=use_colnames)\n",
        "\n",
        "    def run_fpgrowth(self, min_support, use_colnames=True):\n",
        "        return fpgrowth(self.transactiondf, min_support=min_support, use_colnames=use_colnames)\n",
        "\n",
        "def main():\n",
        "    data = pd.read_csv('/content/Groceries_dataset (1).csv', skiprows=lambda x: x % 10 != 0)\n",
        "\n",
        "    min_support = 0.02\n",
        "\n",
        "    frequent_itemsets = FrequentItemsets(data)\n",
        "\n",
        "    apriori_results = frequent_itemsets.run_apriori(min_support=min_support)\n",
        "    fpgrowth_results = frequent_itemsets.run_fpgrowth(min_support=min_support)\n",
        "\n",
        "    print(\"Apriori Results:\")\n",
        "    print(apriori_results)\n",
        "\n",
        "    print(\"\\nFP-Growth Results:\")\n",
        "    print(fpgrowth_results)\n",
        "\n",
        "if __name__ == \"__main__\":\n",
        "    main()"
      ],
      "metadata": {
        "colab": {
          "base_uri": "https://localhost:8080/"
        },
        "id": "Zi_4CYTvlTYR",
        "outputId": "be70fa00-9db5-4692-9ddb-3a1f93674377"
      },
      "execution_count": null,
      "outputs": [
        {
          "output_type": "stream",
          "name": "stdout",
          "text": [
            "Apriori Results:\n",
            "     support              itemsets\n",
            "0   0.025026       (bottled water)\n",
            "1   0.052116    (other vegetables)\n",
            "2   0.049020          (rolls/buns)\n",
            "3   0.024510     (root vegetables)\n",
            "4   0.023478             (sausage)\n",
            "5   0.026574       (shopping bags)\n",
            "6   0.040506                (soda)\n",
            "7   0.029412      (tropical fruit)\n",
            "8   0.020124  (whipped/sour cream)\n",
            "9   0.059856          (whole milk)\n",
            "10  0.033540              (yogurt)\n",
            "\n",
            "FP-Growth Results:\n",
            "     support              itemsets\n",
            "0   0.029412      (tropical fruit)\n",
            "1   0.052116    (other vegetables)\n",
            "2   0.033540              (yogurt)\n",
            "3   0.023478             (sausage)\n",
            "4   0.040506                (soda)\n",
            "5   0.059856          (whole milk)\n",
            "6   0.049020          (rolls/buns)\n",
            "7   0.025026       (bottled water)\n",
            "8   0.024510     (root vegetables)\n",
            "9   0.026574       (shopping bags)\n",
            "10  0.020124  (whipped/sour cream)\n"
          ]
        }
      ]
    },
    {
      "cell_type": "code",
      "source": [
        "class FrequentItemsets:\n",
        "    def __init__(self, data):\n",
        "        self.data = data\n",
        "        self.transactions = []\n",
        "        for index, row in self.data.iterrows():\n",
        "            self.transactions.append(row.dropna().tolist())\n",
        "        self.encoded = pd.get_dummies(pd.DataFrame(self.transactions).stack()).sum(level=0)\n",
        "        self.transactiondf = (self.encoded > 0).astype(int)\n",
        "\n",
        "    def run_apriori(self, min_support, use_colnames=True):\n",
        "        return apriori(self.transactiondf, min_support=min_support, use_colnames=use_colnames)\n",
        "\n",
        "    def run_fpgrowth(self, min_support, use_colnames=True):\n",
        "        return fpgrowth(self.transactiondf, min_support=min_support, use_colnames=use_colnames)\n",
        "\n",
        "def run_algorithms_with_timing(frequent_itemsets, min_support):\n",
        "    apicompleted = threading.Event()\n",
        "    fpcompleted = threading.Event()\n",
        "    exetime = [0, 0]\n",
        "\n",
        "    def run_api():\n",
        "        stime = time.time()\n",
        "        frequent_itemsets.run_apriori(min_support=min_support)\n",
        "        exetime[0] = time.time() - stime\n",
        "        apicompleted.set()\n",
        "\n",
        "    def run_fp():\n",
        "        stime = time.time()\n",
        "        frequent_itemsets.run_fpgrowth(min_support=min_support)\n",
        "        exetime[1] = time.time() - stime\n",
        "        fpcompleted.set()\n",
        "\n",
        "    apthread = threading.Thread(target=run_api)\n",
        "    fpthread = threading.Thread(target=run_fp)\n",
        "\n",
        "    apthread.start()\n",
        "    fpthread.start()\n",
        "\n",
        "    apicompleted.wait()\n",
        "    fpcompleted.wait()\n",
        "\n",
        "    apthread.join()\n",
        "    fpthread.join()\n",
        "\n",
        "    return exetime\n",
        "\n",
        "def main():\n",
        "    data = pd.read_csv('/content/Groceries_dataset (1).csv', skiprows=lambda x: x % 10 != 0)\n",
        "    min_support = 0.02\n",
        "\n",
        "    frequent_itemsets = FrequentItemsets(data)\n",
        "\n",
        "    exetime = run_algorithms_with_timing(frequent_itemsets, min_support)\n",
        "\n",
        "    print(\"Apriori Execution Time:\", exetime[0])\n",
        "    print(\"FP-Growth Execution Time:\", exetime[1])\n",
        "\n",
        "if __name__ == \"__main__\":\n",
        "    main()\n"
      ],
      "metadata": {
        "colab": {
          "base_uri": "https://localhost:8080/"
        },
        "id": "C2jiMy66timA",
        "outputId": "3745af19-b73c-448c-aa1b-9f3975d450c9"
      },
      "execution_count": null,
      "outputs": [
        {
          "output_type": "stream",
          "name": "stdout",
          "text": [
            "Apriori Execution Time: 0.2524406909942627\n",
            "FP-Growth Execution Time: 0.4015231132507324\n"
          ]
        }
      ]
    },
    {
      "cell_type": "code",
      "source": [
        "def run_algorithms_with_timing(frequent_itemsets, min_support):\n",
        "    apicompleted = threading.Event()\n",
        "    fpcompleted = threading.Event()\n",
        "    exetime = []\n",
        "\n",
        "    def run_api():\n",
        "        stime = time.time()\n",
        "        frequent_itemsets.run_apriori(min_support=min_support)\n",
        "        exetime.append(time.time() - stime)\n",
        "        apicompleted.set()\n",
        "\n",
        "    def run_fp():\n",
        "        stime = time.time()\n",
        "        frequent_itemsets.run_fpgrowth(min_support=min_support)\n",
        "        exetime.append(time.time() - stime)\n",
        "        fpcompleted.set()\n",
        "\n",
        "    apthread = threading.Thread(target=run_api)\n",
        "    fpthread = threading.Thread(target=run_fp)\n",
        "\n",
        "    apthread.start()\n",
        "    fpthread.start()\n",
        "\n",
        "    apicompleted.wait()\n",
        "    fpcompleted.wait()\n",
        "\n",
        "    apthread.join()\n",
        "    fpthread.join()\n",
        "\n",
        "    return exetime\n",
        "\n",
        "def main():\n",
        "    data = pd.read_csv('/content/Groceries_dataset (1).csv', skiprows=lambda x: x % 10 != 0)\n",
        "    min_support = 0.02\n",
        "\n",
        "    frequent_itemsets = FrequentItemsets(data)\n",
        "\n",
        "    exetime = run_algorithms_with_timing(frequent_itemsets, min_support)\n",
        "\n",
        "    algorithms=['Apriori-Algorithm','FP-Growth']\n",
        "    plt.bar(algorithms,exetime)\n",
        "    plt.xlabel('Algorithms')\n",
        "    plt.ylabel('Execution Time')\n",
        "    plt.title('Apriori vs FP-Growth')\n",
        "    plt.show()\n",
        "\n",
        "    if exetime[0]<exetime[1]:\n",
        "      print(\"Apriori is Faster\")\n",
        "    elif exetime[1]<exetime[0]:\n",
        "      print(\"FP-Growth is Faster\")\n",
        "    else:\n",
        "      print(\"Both are equal\")\n",
        "\n",
        "if __name__ == \"__main__\":\n",
        "    main()\n"
      ],
      "metadata": {
        "colab": {
          "base_uri": "https://localhost:8080/",
          "height": 489
        },
        "id": "ZMJpnYMvtvCp",
        "outputId": "0be12c01-ea0d-4ccd-be14-024992a887dc"
      },
      "execution_count": null,
      "outputs": [
        {
          "output_type": "display_data",
          "data": {
            "text/plain": [
              "<Figure size 640x480 with 1 Axes>"
            ],
            "image/png": "[encoded data removed]"
          },
          "metadata": {}
        },
        {
          "output_type": "stream",
          "name": "stdout",
          "text": [
            "Apriori is Faster\n"
          ]
        }
      ]
    }
  ]
}