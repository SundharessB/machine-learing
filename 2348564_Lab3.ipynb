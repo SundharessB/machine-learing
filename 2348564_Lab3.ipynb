{
  "nbformat": 4,
  "nbformat_minor": 0,
  "metadata": {
    "colab": {
      "provenance": [],
      "authorship_tag": "ABX9TyPAcfFukpnErod052i/2GwM",
      "include_colab_link": true
    },
    "kernelspec": {
      "name": "python3",
      "display_name": "Python 3"
    },
    "language_info": {
      "name": "python"
    }
  },
  "cells": [
    {
      "cell_type": "markdown",
      "metadata": {
        "id": "view-in-github",
        "colab_type": "text"
      },
      "source": [
        "<a href=\"https://colab.research.google.com/github/SundharessB/machine-learing/blob/main/2348564_Lab3.ipynb\" target=\"_parent\"><img src=\"https://colab.research.google.com/assets/colab-badge.svg\" alt=\"Open In Colab\"/></a>"
      ]
    },
    {
      "cell_type": "code",
      "execution_count": null,
      "metadata": {
        "id": "4KDQs23YAG49"
      },
      "outputs": [],
      "source": [
        "import pandas as pd\n",
        "import numpy as np\n",
        "import matplotlib.pyplot as plt"
      ]
    },
    {
      "cell_type": "code",
      "source": [
        "items_data_df = pd.read_csv('/content/Market_Basket_Optimisation[1].csv', header = None)"
      ],
      "metadata": {
        "id": "jUH4mhAREjrm"
      },
      "execution_count": null,
      "outputs": []
    },
    {
      "cell_type": "code",
      "source": [],
      "metadata": {
        "id": "m6sRmuKXID6u"
      },
      "execution_count": null,
      "outputs": []
    },
    {
      "cell_type": "code",
      "source": [
        "df.isnull().sum()"
      ],
      "metadata": {
        "colab": {
          "base_uri": "https://localhost:8080/"
        },
        "id": "1lLRvzfVFdWc",
        "outputId": "7b143670-2b6b-42a5-8c8b-373aae6a5898"
      },
      "execution_count": null,
      "outputs": [
        {
          "output_type": "execute_result",
          "data": {
            "text/plain": [
              "shrimp                  0\n",
              "almonds              1754\n",
              "avocado              3112\n",
              "vegetables mix       4156\n",
              "green grapes         4972\n",
              "whole weat flour     5637\n",
              "yams                 6132\n",
              "cottage cheese       6520\n",
              "energy drink         6847\n",
              "tomato juice         7106\n",
              "low fat yogurt       7245\n",
              "green tea            7347\n",
              "honey                7414\n",
              "salad                7454\n",
              "mineral water        7476\n",
              "salmon               7493\n",
              "antioxydant juice    7497\n",
              "frozen smoothie      7497\n",
              "spinach              7498\n",
              "olive oil            7500\n",
              "dtype: int64"
            ]
          },
          "metadata": {},
          "execution_count": 3
        }
      ]
    },
    {
      "cell_type": "code",
      "source": [
        "unique_items        = (items_data_df[0].unique())\n",
        "print(unique_items)\n"
      ],
      "metadata": {
        "colab": {
          "base_uri": "https://localhost:8080/"
        },
        "id": "WglT2ddDHVE9",
        "outputId": "4b74d26a-3cb2-4d5d-b360-8a92351b4fe6"
      },
      "execution_count": null,
      "outputs": [
        {
          "output_type": "stream",
          "name": "stdout",
          "text": [
            "['shrimp' 'burgers' 'chutney' 'turkey' 'mineral water' 'low fat yogurt'\n",
            " 'whole wheat pasta' 'soup' 'frozen vegetables' 'french fries' 'eggs'\n",
            " 'cookies' 'spaghetti' 'meatballs' 'red wine' 'rice' 'parmesan cheese'\n",
            " 'ground beef' 'sparkling water' 'herb & pepper' 'pickles' 'energy bar'\n",
            " 'fresh tuna' 'escalope' 'avocado' 'tomato sauce' 'clothes accessories'\n",
            " 'energy drink' 'chocolate' 'grated cheese' 'yogurt cake' 'mint'\n",
            " 'asparagus' 'champagne' 'ham' 'muffins' 'french wine' 'chicken' 'pasta'\n",
            " 'tomatoes' 'pancakes' 'frozen smoothie' 'carrots' 'yams' 'shallot'\n",
            " 'butter' 'light mayo' 'pepper' 'candy bars' 'cooking oil' 'milk'\n",
            " 'green tea' 'bug spray' 'oil' 'olive oil' 'salmon' 'cake' 'almonds'\n",
            " 'salt' 'strong cheese' 'hot dogs' 'pet food' 'whole wheat rice'\n",
            " 'antioxydant juice' 'honey' 'sandwich' 'salad' 'magazines' 'protein bar'\n",
            " 'mayonnaise' 'cider' 'burger sauce' 'green grapes' 'vegetables mix'\n",
            " 'bramble' 'nonfat milk' 'tomato juice' 'green beans' 'strawberries'\n",
            " 'eggplant' 'mushroom cream sauce' 'gums' 'cereals' 'flax seed' 'spinach'\n",
            " 'soda' 'dessert wine' 'corn' 'fresh bread' 'brownies' 'fromage blanc'\n",
            " 'chocolate bread' 'mashed potato' 'gluten free bar' 'cottage cheese'\n",
            " 'whole weat flour' 'chili' 'barbecue sauce' 'light cream'\n",
            " 'mint green tea' 'black tea' 'bacon' 'shampoo' 'blueberries'\n",
            " 'cauliflower' 'extra dark chocolate' 'white wine' 'babies food'\n",
            " 'toothpaste' 'melons' 'ketchup' 'cream' 'hand protein bar' 'body spray'\n",
            " 'oatmeal']\n"
          ]
        }
      ]
    },
    {
      "cell_type": "code",
      "source": [
        "encoded_vals        = []\n",
        "for i, rows in items_data_df.iterrows():\n",
        "\tlabels          = {}\n",
        "\tuncommons       = list(set(unique_items) - set(rows))\n",
        "\tcommons         = list(set(unique_items).intersection(rows))\n",
        "\tfor uc in uncommons:\n",
        "\t\tlabels[uc]  = 0\n",
        "\tfor com in commons:\n",
        "\t\tlabels[com] = 1\n",
        "\tencoded_vals.append(labels)\n",
        "encoded_vals[0]\n",
        "\n",
        "encode_df           = pd.DataFrame(encoded_vals)\n",
        "\n",
        "print(encode_df.head())\n"
      ],
      "metadata": {
        "colab": {
          "base_uri": "https://localhost:8080/"
        },
        "id": "MrXy1itdKBfA",
        "outputId": "7a69c0f0-32f4-4d18-8d82-24386e1d8112"
      },
      "execution_count": null,
      "outputs": [
        {
          "output_type": "stream",
          "name": "stdout",
          "text": [
            "   champagne  chocolate bread  frozen vegetables  strong cheese  shampoo  \\\n",
            "0          0                0                  0              0        0   \n",
            "1          0                0                  0              0        0   \n",
            "2          0                0                  0              0        0   \n",
            "3          0                0                  0              0        0   \n",
            "4          0                0                  0              0        0   \n",
            "\n",
            "   chocolate  herb & pepper  whole wheat pasta  protein bar  parmesan cheese  \\\n",
            "0          0              0                  0            0                0   \n",
            "1          0              0                  0            0                0   \n",
            "2          0              0                  0            0                0   \n",
            "3          0              0                  0            0                0   \n",
            "4          0              0                  0            0                0   \n",
            "\n",
            "   ...  green grapes  frozen smoothie  green tea  cottage cheese  \\\n",
            "0  ...             1                1          1               1   \n",
            "1  ...             0                0          0               0   \n",
            "2  ...             0                0          0               0   \n",
            "3  ...             0                0          0               0   \n",
            "4  ...             0                0          1               0   \n",
            "\n",
            "   low fat yogurt  salad  yams  salmon  antioxydant juice  almonds  \n",
            "0               1      1     1       1                  1        1  \n",
            "1               0      0     0       0                  0        0  \n",
            "2               0      0     0       0                  0        0  \n",
            "3               0      0     0       0                  0        0  \n",
            "4               0      0     0       0                  0        0  \n",
            "\n",
            "[5 rows x 115 columns]\n"
          ]
        }
      ]
    }
  ]
}